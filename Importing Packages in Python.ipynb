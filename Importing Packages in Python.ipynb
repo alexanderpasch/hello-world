{
 "cells": [
  {
   "cell_type": "markdown",
   "metadata": {},
   "source": [
    "# Importing Libraries and Packages in Python"
   ]
  },
  {
   "cell_type": "markdown",
   "metadata": {},
   "source": [
    "## Difference between a Module, Library, Package, Framework\n",
    "\n",
    "\n",
    "### Definitions of useful terms:\n",
    "1. Namespace: A connection or mapping of every name to a specific object (every name mapped onto an object)\n",
    "2. Object: A specific example or instantiation of a class\n",
    "3. Class: The general description of or blueprint for possible objects to take\n",
    "4. Method: Functions specific to a particular class.\n",
    "5. Object Oriented Programming: Utilizing objects in order to create reusable code\n",
    "\n",
    "So in Python (an Object oriented programming language) you define or used predefined classes to create objects with\n",
    "specific names articulated in a namespace and can run methods on these objects associated with their class.\n",
    "\n",
    "6. Python function (https://www.tutorialspoint.com/python/python_functions.htm): \"a block of organized, reusable\n",
    "code\"\n",
    "\n",
    "    Syntax\n",
    "        def EG_function(EG_parameter1, EG_parameter2):\n",
    "           optional \"function_docstring\" - that explains what the function does \n",
    "           function_suite - containing the code that the function performs\n",
    "           return [expression] \n",
    "\n",
    "    Calling a function\n",
    "        EG_function(some_parameter_with_right_type) #eg. str, int, float, bool, list, tuple, dict, etc.\n",
    "\n",
    "7. Python global variable: A variable that has global scope, and therefore accesible throughout the entire program\n",
    "\n",
    "\n",
    "### Modules \n",
    "A Module is a .py file (https://fileinfo.com/extension/py) that contains a function, global variable, or other executable code\n",
    "\n",
    "### Packages\n",
    "A Package is a collection of Modules. It is a directory (https://www.programiz.com/python-programming/directory) containing numerous modules and containing a __init__.py statement which signifies that it is a package (regular or namespace) (https://docs.python.org/3/reference/import.html#regular-packages) \n",
    "\n",
    "### Libraries\n",
    "A Library is a collection of packages (not necessarily different from packages)\n",
    "\n",
    "### Framework\n",
    "A framework is a collection of libraries often configured to work together \n",
    "\n",
    "More info: https://www.quora.com/What-is-the-difference-between-Python-modules-packages-libraries-and-frameworks"
   ]
  },
  {
   "cell_type": "markdown",
   "metadata": {},
   "source": [
    "## A List of Useful Libraries for Data Science\n",
    "Scientific Computing\n",
    "   \n",
    "    1. Pandas (data structure and tools)\n",
    "    2. NumPy (arrays, matrices and matrix processing\n",
    "    import numpy as np\n",
    "    3. Scipy (functions for math problems eg. Integrals or diffeqs)\n",
    "\n",
    "Visualization\n",
    "\n",
    "    1. Matplotlib\n",
    "    2. Seaborn (heatmaps, timeseries, violin plots)\n",
    "\n",
    "Algorithmic Library\n",
    "    \n",
    "    1. Scikit-learn\n",
    "    2. Statsmodels scikit\n",
    "    3. Tensor Flow\n"
   ]
  },
  {
   "cell_type": "markdown",
   "metadata": {},
   "source": [
    "# Pandas"
   ]
  },
  {
   "cell_type": "markdown",
   "metadata": {},
   "source": [
    "Pandas, the “Python Data Analysis Library\", (https://pandas.pydata.org/) is an extremely useful and widely utilized python library for data analysis. \n",
    "\n",
    "It allows for the easy import of CSV, SQL database, or JSON files into a python object called a dataframe.\n",
    "\n",
    "### Importing Pandas"
   ]
  },
  {
   "cell_type": "code",
   "execution_count": 9,
   "metadata": {},
   "outputs": [],
   "source": [
    "#Importing pandas ( as pd is put to simplify future commands using pandas)\n",
    "import pandas as pd \n",
    "\n",
    "# This needs to be run every time after opening a Jupyter notebook"
   ]
  },
  {
   "cell_type": "markdown",
   "metadata": {},
   "source": [
    "### Loading and Saving Data with Pandas"
   ]
  },
  {
   "cell_type": "code",
   "execution_count": 15,
   "metadata": {},
   "outputs": [
    {
     "name": "stdout",
     "output_type": "stream",
     "text": [
      "<_io.TextIOWrapper name='randomcsv' mode='r' encoding='cp1252'>\n"
     ]
    }
   ],
   "source": [
    "a = open('randomcsv')\n",
    "print(a)"
   ]
  },
  {
   "cell_type": "code",
   "execution_count": 16,
   "metadata": {},
   "outputs": [
    {
     "data": {
      "text/html": [
       "<div>\n",
       "<style scoped>\n",
       "    .dataframe tbody tr th:only-of-type {\n",
       "        vertical-align: middle;\n",
       "    }\n",
       "\n",
       "    .dataframe tbody tr th {\n",
       "        vertical-align: top;\n",
       "    }\n",
       "\n",
       "    .dataframe thead th {\n",
       "        text-align: right;\n",
       "    }\n",
       "</style>\n",
       "<table border=\"1\" class=\"dataframe\">\n",
       "  <thead>\n",
       "    <tr style=\"text-align: right;\">\n",
       "      <th></th>\n",
       "      <th>ï»¿\"tower\"</th>\n",
       "      <th>question</th>\n",
       "      <th>struck</th>\n",
       "      <th>represent</th>\n",
       "      <th>many</th>\n",
       "      <th>tank</th>\n",
       "    </tr>\n",
       "  </thead>\n",
       "  <tbody>\n",
       "    <tr>\n",
       "      <td>0</td>\n",
       "      <td>human</td>\n",
       "      <td>farther</td>\n",
       "      <td>doing</td>\n",
       "      <td>dish</td>\n",
       "      <td>trail</td>\n",
       "      <td>skill</td>\n",
       "    </tr>\n",
       "    <tr>\n",
       "      <td>1</td>\n",
       "      <td>his</td>\n",
       "      <td>border</td>\n",
       "      <td>two</td>\n",
       "      <td>improve</td>\n",
       "      <td>of</td>\n",
       "      <td>eaten</td>\n",
       "    </tr>\n",
       "    <tr>\n",
       "      <td>2</td>\n",
       "      <td>mountain</td>\n",
       "      <td>weigh</td>\n",
       "      <td>yard</td>\n",
       "      <td>safety</td>\n",
       "      <td>telephone</td>\n",
       "      <td>amount</td>\n",
       "    </tr>\n",
       "    <tr>\n",
       "      <td>3</td>\n",
       "      <td>reach</td>\n",
       "      <td>cake</td>\n",
       "      <td>sea</td>\n",
       "      <td>skill</td>\n",
       "      <td>smallest</td>\n",
       "      <td>giving</td>\n",
       "    </tr>\n",
       "    <tr>\n",
       "      <td>4</td>\n",
       "      <td>modern</td>\n",
       "      <td>rough</td>\n",
       "      <td>sink</td>\n",
       "      <td>anything</td>\n",
       "      <td>moving</td>\n",
       "      <td>me</td>\n",
       "    </tr>\n",
       "    <tr>\n",
       "      <td>5</td>\n",
       "      <td>government</td>\n",
       "      <td>education</td>\n",
       "      <td>hundred</td>\n",
       "      <td>entirely</td>\n",
       "      <td>kept</td>\n",
       "      <td>end</td>\n",
       "    </tr>\n",
       "  </tbody>\n",
       "</table>\n",
       "</div>"
      ],
      "text/plain": [
       "   ï»¿\"tower\"   question   struck represent       many    tank\n",
       "0       human    farther    doing      dish      trail   skill\n",
       "1         his     border      two   improve         of   eaten\n",
       "2    mountain      weigh     yard    safety  telephone  amount\n",
       "3       reach       cake      sea     skill   smallest  giving\n",
       "4      modern      rough     sink  anything     moving      me\n",
       "5  government  education  hundred  entirely       kept     end"
      ]
     },
     "execution_count": 16,
     "metadata": {},
     "output_type": "execute_result"
    }
   ],
   "source": [
    "#read the file type:   pd.read_filetype()\n",
    "pd.read_csv(a)\n",
    "#convert to dataframe:   pd.DataFrame() \n",
    "#save file:   df.to_filetype(filename)"
   ]
  },
  {
   "cell_type": "markdown",
   "metadata": {},
   "source": [
    "https://towardsdatascience.com/a-quick-introduction-to-the-pandas-python-library-f1b678f34673"
   ]
  },
  {
   "cell_type": "markdown",
   "metadata": {},
   "source": [
    "# NumPy"
   ]
  },
  {
   "cell_type": "markdown",
   "metadata": {},
   "source": [
    "A library which allows the creation of multidimensional n-arrays or 2D matrices along with functions that operate on these.\n",
    "\n",
    "### Importing NumPy"
   ]
  },
  {
   "cell_type": "code",
   "execution_count": 2,
   "metadata": {},
   "outputs": [],
   "source": [
    "import numpy as np # again imported as np to simplify future code"
   ]
  },
  {
   "cell_type": "markdown",
   "metadata": {},
   "source": [
    "### Common Numpy Functions"
   ]
  },
  {
   "cell_type": "code",
   "execution_count": 40,
   "metadata": {},
   "outputs": [
    {
     "name": "stdout",
     "output_type": "stream",
     "text": [
      "ex_array =\n",
      " [[1 2 3]\n",
      " [2 3 4]]\n"
     ]
    }
   ],
   "source": [
    "#Create an array np.array()\n",
    "ex_array = np.array([[1,2,3],[2,3,4]])\n",
    "print('ex_array =\\n', ex_array)"
   ]
  },
  {
   "cell_type": "code",
   "execution_count": 4,
   "metadata": {},
   "outputs": [
    {
     "name": "stdout",
     "output_type": "stream",
     "text": [
      "\n",
      "b = [1.]\n",
      "\n",
      "c = [1.  1.5 2. ]\n",
      "\n",
      "d = [0.         0.66666667 1.33333333 2.        ]\n"
     ]
    }
   ],
   "source": [
    "# create a 1D array with ordered values \n",
    "# np.linspace(starting value, final value, # of increments)\n",
    "b = np.linspace(1,1,1) \n",
    "print('\\nb =', b)\n",
    "\n",
    "c = np.linspace(1,2,3)\n",
    "print('\\nc =', c)\n",
    "\n",
    "d = np.linspace(0,2,4)\n",
    "print('\\nd =', d)"
   ]
  },
  {
   "cell_type": "code",
   "execution_count": 80,
   "metadata": {
    "scrolled": true
   },
   "outputs": [
    {
     "name": "stdout",
     "output_type": "stream",
     "text": [
      "a = \n",
      " [[0.88714466 0.71466233]]\n",
      "\n",
      "b = \n",
      " [[0.82730098 0.1460654  0.22200789]\n",
      " [0.92432776 0.59916635 0.2472078 ]]\n",
      "\n",
      "c =\n",
      " [[[0.93012347 0.8457788  0.57459831]\n",
      "  [0.12317564 0.1704736  0.67012852]\n",
      "  [0.54720291 0.29264564 0.22687599]]\n",
      "\n",
      " [[0.24928843 0.83001004 0.62368805]\n",
      "  [0.67864685 0.76040948 0.9791493 ]\n",
      "  [0.6665487  0.43724635 0.48073987]]]\n"
     ]
    }
   ],
   "source": [
    "# create an array of random values between 0 and 1\n",
    "# np.random.rand(number of rows, cols, hight, expansions into 4th dimension, expansions in 5th dimension...)\n",
    "a= np.random.rand(1,2)\n",
    "print('a = \\n', a)\n",
    "\n",
    "b = np.random.rand(2,3)\n",
    "print('\\nb = \\n', b)\n",
    "\n",
    "c = np.random.rand(2,3,3)\n",
    "print('\\nc =\\n', c)"
   ]
  },
  {
   "cell_type": "code",
   "execution_count": 81,
   "metadata": {
    "scrolled": true
   },
   "outputs": [
    {
     "name": "stdout",
     "output_type": "stream",
     "text": [
      "\n",
      "d =\n",
      " [[[[0.25749674 0.85812882]\n",
      "   [0.37655802 0.57109182]]\n",
      "\n",
      "  [[0.49135322 0.17426478]\n",
      "   [0.63568681 0.78323959]]\n",
      "\n",
      "  [[0.33520893 0.22609211]\n",
      "   [0.08764381 0.83630297]]]\n",
      "\n",
      "\n",
      " [[[0.81813795 0.08666613]\n",
      "   [0.352563   0.73182303]]\n",
      "\n",
      "  [[0.33148913 0.71935515]\n",
      "   [0.16238452 0.90059478]]\n",
      "\n",
      "  [[0.14065308 0.29724628]\n",
      "   [0.99398777 0.82323946]]]]\n"
     ]
    }
   ],
   "source": [
    "d = np.random.rand(2,3,2,2)\n",
    "print('\\nd =\\n', d)"
   ]
  },
  {
   "cell_type": "code",
   "execution_count": 9,
   "metadata": {},
   "outputs": [
    {
     "name": "stdout",
     "output_type": "stream",
     "text": [
      "[1.  1.1 1.2 1.3 1.4 1.5 1.6 1.7 1.8 1.9 2.  2.1 2.2 2.3 2.4 2.5 2.6 2.7\n",
      " 2.8 2.9]\n"
     ]
    },
    {
     "data": {
      "text/plain": [
       "array([1, 2])"
      ]
     },
     "execution_count": 9,
     "metadata": {},
     "output_type": "execute_result"
    }
   ],
   "source": [
    "print(np.arange(start = 1, stop = 3, step = 0.1, dtype = float))\n",
    "np.arange(1, 3, 1)\n"
   ]
  },
  {
   "cell_type": "markdown",
   "metadata": {},
   "source": [
    "# SciPy"
   ]
  },
  {
   "cell_type": "code",
   "execution_count": 34,
   "metadata": {},
   "outputs": [],
   "source": [
    "# First import other Modules\n",
    "import numpy as np\n",
    "import matplotlib as mpl\n",
    "import matplotlib.pyplot as plt"
   ]
  },
  {
   "cell_type": "markdown",
   "metadata": {},
   "source": [
    "### SciPy Subpackages\n",
    "https://docs.scipy.org/doc/scipy/reference/tutorial/general.html\n",
    "    "
   ]
  },
  {
   "cell_type": "markdown",
   "metadata": {},
   "source": [
    "The \"top level\" of scipy has numpy and numpy.lib.scimath functions \n",
    "        \n",
    "        eg.\n",
    "        import scipy\n",
    "        scipy.array([1,2])\n",
    "        a = scipy.concatenate(([3], [0]*5, scipy.arange(-1, 1.002, 2/9.0)))\n",
    "\n",
    "\n",
    "However, SciPy is a larger library that contains numerous subpackages related to specific projects. A couple are listed below:"
   ]
  },
  {
   "cell_type": "code",
   "execution_count": 31,
   "metadata": {},
   "outputs": [
    {
     "data": {
      "text/plain": [
       "array([ 3,  0,  0, -1,  0,  1])"
      ]
     },
     "execution_count": 31,
     "metadata": {},
     "output_type": "execute_result"
    }
   ],
   "source": [
    "a = scipy.concatenate(([3], [0]*2))\n",
    "b = scipy.concatenate((a, scipy.arange(-1, 2, 1)), axis = 0)\n",
    "b"
   ]
  },
  {
   "cell_type": "code",
   "execution_count": 36,
   "metadata": {},
   "outputs": [],
   "source": [
    "from scipy import stats, linalg\n",
    "import scipy as sp"
   ]
  },
  {
   "cell_type": "code",
   "execution_count": 84,
   "metadata": {
    "scrolled": true
   },
   "outputs": [
    {
     "name": "stdout",
     "output_type": "stream",
     "text": [
      "[-1.         -0.95918367 -0.91836735 -0.87755102 -0.83673469 -0.79591837\n",
      " -0.75510204 -0.71428571 -0.67346939 -0.63265306 -0.59183673 -0.55102041\n",
      " -0.51020408 -0.46938776 -0.42857143 -0.3877551  -0.34693878 -0.30612245\n",
      " -0.26530612 -0.2244898  -0.18367347 -0.14285714 -0.10204082 -0.06122449\n",
      " -0.02040816  0.02040816  0.06122449  0.10204082  0.14285714  0.18367347\n",
      "  0.2244898   0.26530612  0.30612245  0.34693878  0.3877551   0.42857143\n",
      "  0.46938776  0.51020408  0.55102041  0.59183673  0.63265306  0.67346939\n",
      "  0.71428571  0.75510204  0.79591837  0.83673469  0.87755102  0.91836735\n",
      "  0.95918367  1.        ]\n"
     ]
    },
    {
     "data": {
      "image/png": "[encoded data removed]",
      "text/plain": [
       "<Figure size 432x288 with 1 Axes>"
      ]
     },
     "metadata": {
      "needs_background": "light"
     },
     "output_type": "display_data"
    }
   ],
   "source": [
    "# Some popular functions and applications from https://galeascience.wordpress.com/2016/08/10/top-10-pandas-numpy-and-scipy-functions-on-github/\n",
    "#sp.stats.norm.pdf: create a normal probability density function with(loc = mean, scale = std, )\n",
    "# loc = mean\n",
    "# \n",
    "\n",
    "#a gaussian plot\n",
    "x = np.linspace(-1,1,50)\n",
    "print(x)\n",
    "plt.plot(x, sp.stats.norm.pdf(x=x, loc=0, scale=0.2))\n",
    "\n",
    "\n",
    "#a histogram wtih random samples\n",
    "np.random.seed(2)\n",
    "plt.hist(sp.stats.norm.rvs(loc=0, scale=0.2, size=200),\n",
    "    bins=50, density=True, color='red', alpha=0.2)\n",
    "plt.show()"
   ]
  },
  {
   "cell_type": "code",
   "execution_count": 129,
   "metadata": {},
   "outputs": [],
   "source": [
    "a = []\n",
    "for n in range(2,52):\n",
    "    \n",
    "    a.extend(np.random.rand(1)*(100/(n)))"
   ]
  },
  {
   "cell_type": "code",
   "execution_count": 130,
   "metadata": {},
   "outputs": [
    {
     "data": {
      "image/png": "[encoded data removed]",
      "text/plain": [
       "<Figure size 432x288 with 1 Axes>"
      ]
     },
     "metadata": {
      "needs_background": "light"
     },
     "output_type": "display_data"
    }
   ],
   "source": [
    "#from https://galeascience.wordpress.com/2016/08/10/top-10-pandas-numpy-and-scipy-functions-on-github/\n",
    "\n",
    "# Spline fit for scattered points\n",
    " \n",
    "x = np.linspace(0, 10, 50)\n",
    "xs = np.linspace(0, 10, 51)\n",
    "y = a\n",
    "spline = sp.interpolate.UnivariateSpline(x, y)\n",
    "plt.scatter(x, y); plt.plot(xs, spline(xs))\n",
    "plt.show()"
   ]
  },
  {
   "cell_type": "markdown",
   "metadata": {},
   "source": [
    "# Matplotlib"
   ]
  },
  {
   "cell_type": "markdown",
   "metadata": {},
   "source": [
    "A popular plotting library closely tied to numpy and scipy"
   ]
  },
  {
   "cell_type": "code",
   "execution_count": 144,
   "metadata": {},
   "outputs": [],
   "source": [
    "import matplotlib\n",
    "import matplotlib.pyplot as plt\n",
    "import numpy as np"
   ]
  },
  {
   "cell_type": "code",
   "execution_count": 151,
   "metadata": {},
   "outputs": [
    {
     "data": {
      "image/png": "[encoded data removed]",
      "text/plain": [
       "<Figure size 432x288 with 1 Axes>"
      ]
     },
     "metadata": {
      "needs_background": "light"
     },
     "output_type": "display_data"
    },
    {
     "data": {
      "image/png": "[encoded data removed]",
      "text/plain": [
       "<Figure size 432x288 with 1 Axes>"
      ]
     },
     "metadata": {
      "needs_background": "light"
     },
     "output_type": "display_data"
    }
   ],
   "source": [
    "plt.plot(range(1,11))\n",
    "plt.ylabel('1 through 10')\n",
    "plt.show()\n",
    "plt.plot(range(1,11), np.random.rand(10),'--')\n",
    "plt.ylabel('some numbers')\n",
    "plt.show()"
   ]
  },
  {
   "cell_type": "code",
   "execution_count": 152,
   "metadata": {},
   "outputs": [
    {
     "data": {
      "text/plain": [
       "[<matplotlib.lines.Line2D at 0x66df730>]"
      ]
     },
     "execution_count": 152,
     "metadata": {},
     "output_type": "execute_result"
    },
    {
     "data": {
      "image/png": "[encoded data removed]",
      "text/plain": [
       "<Figure size 432x288 with 1 Axes>"
      ]
     },
     "metadata": {
      "needs_background": "light"
     },
     "output_type": "display_data"
    }
   ],
   "source": [
    "plt.plot(range(1,11), np.random.rand(10),'ro')"
   ]
  }
 ],
 "metadata": {
  "kernelspec": {
   "display_name": "Python 3",
   "language": "python",
   "name": "python3"
  },
  "language_info": {
   "codemirror_mode": {
    "name": "ipython",
    "version": 3
   },
   "file_extension": ".py",
   "mimetype": "text/x-python",
   "name": "python",
   "nbconvert_exporter": "python",
   "pygments_lexer": "ipython3",
   "version": "3.7.3"
  }
 },
 "nbformat": 4,
 "nbformat_minor": 2
}
